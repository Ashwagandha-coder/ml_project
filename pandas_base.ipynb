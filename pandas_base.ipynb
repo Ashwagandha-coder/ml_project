{
  "nbformat": 4,
  "nbformat_minor": 0,
  "metadata": {
    "colab": {
      "provenance": [],
      "authorship_tag": "ABX9TyO1Qs/42gmGOpOVEZwwwnii"
    },
    "kernelspec": {
      "name": "python3",
      "display_name": "Python 3"
    },
    "language_info": {
      "name": "python"
    }
  },
  "cells": [
    {
      "cell_type": "code",
      "execution_count": 1,
      "metadata": {
        "id": "48ONByAzJ2m-"
      },
      "outputs": [],
      "source": [
        "import pandas as pd\n",
        "import numpy as np"
      ]
    },
    {
      "cell_type": "code",
      "source": [
        "data = ()"
      ],
      "metadata": {
        "id": "PQU8LcM3cWgf"
      },
      "execution_count": null,
      "outputs": []
    }
  ]
}