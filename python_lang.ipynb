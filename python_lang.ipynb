{
  "nbformat": 4,
  "nbformat_minor": 0,
  "metadata": {
    "colab": {
      "provenance": [],
      "authorship_tag": "ABX9TyPxRzVYPF7Br5ir9NkJfsEG",
      "include_colab_link": true
    },
    "kernelspec": {
      "name": "python3",
      "display_name": "Python 3"
    },
    "language_info": {
      "name": "python"
    }
  },
  "cells": [
    {
      "cell_type": "markdown",
      "metadata": {
        "id": "view-in-github",
        "colab_type": "text"
      },
      "source": [
        "<a href=\"https://colab.research.google.com/github/Ashwagandha-coder/my_project/blob/main/python_lang.ipynb\" target=\"_parent\"><img src=\"https://colab.research.google.com/assets/colab-badge.svg\" alt=\"Open In Colab\"/></a>"
      ]
    },
    {
      "cell_type": "markdown",
      "source": [
        "## OOP in Python"
      ],
      "metadata": {
        "id": "yJDnlmxOP6L-"
      }
    },
    {
      "cell_type": "code",
      "source": [
        "# class\n",
        "class OOPTest(object):\n",
        "  # field\n",
        "  a = 0\n",
        "  b = 1\n",
        "  c = 2\n",
        "\n",
        "# Function\n",
        "  def test(self, x) -> int:\n",
        "    return x * 2\n",
        "\n",
        "\n",
        "# object\n",
        "obj = OOPTest()\n",
        "newObj = OOPTest()\n",
        "result = newObj.test(2)\n",
        "print(result)"
      ],
      "metadata": {
        "colab": {
          "base_uri": "https://localhost:8080/"
        },
        "id": "23Me24xyQAj-",
        "outputId": "ad14eeac-a501-43b1-fab3-67e6b55cba16"
      },
      "execution_count": null,
      "outputs": [
        {
          "output_type": "stream",
          "name": "stdout",
          "text": [
            "4\n"
          ]
        }
      ]
    },
    {
      "cell_type": "markdown",
      "source": [
        "### Pass [keyword]"
      ],
      "metadata": {
        "id": "D1x6P8AXk0t1"
      }
    },
    {
      "cell_type": "code",
      "source": [
        "class newClass(object):\n",
        "  field_1 = 0\n",
        "  field_2 = 1\n",
        "  filed_3 = 2\n",
        "\n",
        "\n",
        "  def __init__(self, field_1, filed_2, filed_3) -> None:\n",
        "    pass\n",
        "\n",
        "  def delimeter(self, x, y) -> int:\n",
        "    return x / y\n",
        "\n",
        "\n",
        "\n",
        "obj = newClass(5,10,20)\n",
        "print(obj.delimeter(10,5))\n",
        "\n",
        "## keyword pass for stub code\n"
      ],
      "metadata": {
        "colab": {
          "base_uri": "https://localhost:8080/"
        },
        "id": "Pnnm_xcHRhdt",
        "outputId": "aac3bf5f-81e5-429d-8ee9-23642c2eb5f6"
      },
      "execution_count": null,
      "outputs": [
        {
          "output_type": "stream",
          "name": "stdout",
          "text": [
            "2.0\n"
          ]
        }
      ]
    },
    {
      "cell_type": "markdown",
      "source": [
        "### Inheritance"
      ],
      "metadata": {
        "id": "6bYjR88QkorI"
      }
    },
    {
      "cell_type": "code",
      "source": [
        "class newClass(object):\n",
        "  # field\n",
        "  field_1 = 0\n",
        "  field_2 = 1\n",
        "  filed_3 = 2\n",
        "\n",
        "  # constructor\n",
        "  def __init__(self, field_1, filed_2, filed_3) -> None:\n",
        "    pass\n",
        "\n",
        "  def delimeter(self, x, y) -> int:\n",
        "    return x / y\n",
        "\n",
        "\n",
        "\n",
        "obj = newClass(5,10,20)\n",
        "print(obj.delimeter(10,5))\n",
        "\n",
        "## keyword pass for stub code\n",
        "\n",
        "# Inheritance Python\n",
        "class Inhiretance(newClass):\n",
        "\n",
        "  def __init__(self, field_1, filed_2, filed_3) -> None:\n",
        "    super().__init__(field_1, filed_2, filed_3)\n",
        "\n",
        "  def run(self, x):\n",
        "    a = x*x\n",
        "    return a\n",
        "  \n",
        "otherObject = Inhiretance(1,2,3)\n",
        "otherObject.delimeter(20,5)\n",
        "\n"
      ],
      "metadata": {
        "colab": {
          "base_uri": "https://localhost:8080/"
        },
        "id": "JyBUWUdejIKL",
        "outputId": "383773c4-f59a-4508-ac12-8f9c9a4b2c55"
      },
      "execution_count": null,
      "outputs": [
        {
          "output_type": "stream",
          "name": "stdout",
          "text": [
            "2.0\n"
          ]
        },
        {
          "output_type": "execute_result",
          "data": {
            "text/plain": [
              "4.0"
            ]
          },
          "metadata": {},
          "execution_count": 12
        }
      ]
    },
    {
      "cell_type": "markdown",
      "source": [
        "### Incapsulation"
      ],
      "metadata": {
        "id": "RTGucb0QnBL0"
      }
    },
    {
      "cell_type": "code",
      "source": [
        "class Car:\n",
        "\n",
        "  def __init__(self) -> None:\n",
        "    self.__power = 560\n",
        "  \n",
        "  def doSome(self):\n",
        "    return self.__power\n",
        "\n",
        "car = Car()\n",
        "print(car.doSome())\n",
        "car.__power = 1000\n",
        "print(car.doSome())   "
      ],
      "metadata": {
        "colab": {
          "base_uri": "https://localhost:8080/"
        },
        "id": "5Dh-AIi1k8wu",
        "outputId": "89415bba-1478-4370-ff55-4680bdb89c9e"
      },
      "execution_count": null,
      "outputs": [
        {
          "output_type": "stream",
          "name": "stdout",
          "text": [
            "560\n",
            "560\n"
          ]
        }
      ]
    },
    {
      "cell_type": "markdown",
      "source": [
        "### Polymorhism"
      ],
      "metadata": {
        "id": "pK-ExnDKoL6h"
      }
    },
    {
      "cell_type": "code",
      "source": [
        "class Programmer:\n",
        "\n",
        " def write(self): \n",
        "  print(\"wrtite code prog\")\n",
        "\n",
        "class Writer:\n",
        "\n",
        " def write(self): \n",
        "  print(\"write word writer\")\n",
        "\n",
        "def action(interface): \n",
        "  interface.write()\n",
        "\n",
        "obj = Programmer() \n",
        "obj_2 = Writer()\n",
        "\n",
        "## Polymorphism\n",
        "action(obj) \n",
        "action(obj_2)"
      ],
      "metadata": {
        "id": "HDHP6O45px2C"
      },
      "execution_count": null,
      "outputs": []
    },
    {
      "cell_type": "markdown",
      "source": [
        "### Del [keyword]"
      ],
      "metadata": {
        "id": "nF08uoQ6qpUF"
      }
    },
    {
      "cell_type": "code",
      "source": [
        "class Deletable:\n",
        "\n",
        "  def __init__(self) -> None:\n",
        "    pass\n",
        "\n",
        "\n",
        "obj = Deletable()\n",
        "del obj\n"
      ],
      "metadata": {
        "id": "B8JRMCDOqIyt"
      },
      "execution_count": null,
      "outputs": []
    },
    {
      "cell_type": "markdown",
      "source": [
        "### Cycle"
      ],
      "metadata": {
        "id": "ZTgRv1XQscXO"
      }
    },
    {
      "cell_type": "code",
      "source": [
        "class Polygon:\n",
        "    def __init__(self, no_of_sides):\n",
        "        self.n = no_of_sides\n",
        "        self.sides = [0 for i in range(no_of_sides)]\n",
        "\n",
        "\n",
        "    def inputSides(self):\n",
        "        self.sides = [float(input(\"Введите сторону \" + str(i+1)+ \" : \")) for i in range(self.n)]\n",
        "\n",
        "\n",
        "    def dispSides(self):\n",
        "        for i in range(self.n):\n",
        "            print(\"Сторона\", i+1, \" — \", self.sides[i])"
      ],
      "metadata": {
        "id": "wIQIQEuisZBA"
      },
      "execution_count": null,
      "outputs": []
    },
    {
      "cell_type": "markdown",
      "source": [
        "#### range()"
      ],
      "metadata": {
        "id": "Tot7a9a0wcOo"
      }
    },
    {
      "cell_type": "code",
      "source": [
        "class Triangle:\n",
        "\n",
        "# classic\n",
        "  def test(self):\n",
        "    for i in range(0,5):\n",
        "      print(i)\n",
        "  \n",
        "  # step\n",
        "  def test2(self):\n",
        "    for i in range(4,10,2):\n",
        "      print(i)\n",
        "\n",
        "  # one parametr\n",
        "  def test3(self):\n",
        "     for i in range(10):\n",
        "       print(i)   \n",
        "\n",
        "  ## anotation and init massive\n",
        "  @staticmethod\n",
        "  def test4():\n",
        "    param = [0 for i in range(10)]\n",
        "    print(param)\n",
        "\n",
        "obj = Triangle()\n",
        "obj.test4()"
      ],
      "metadata": {
        "colab": {
          "base_uri": "https://localhost:8080/"
        },
        "id": "7wiHiuZ0sw4W",
        "outputId": "a43a1dff-a11f-4834-8bde-196718804c02"
      },
      "execution_count": null,
      "outputs": [
        {
          "output_type": "stream",
          "name": "stdout",
          "text": [
            "[0, 0, 0, 0, 0, 0, 0, 0, 0, 0]\n"
          ]
        }
      ]
    },
    {
      "cell_type": "markdown",
      "source": [
        "### Check instance and subclass"
      ],
      "metadata": {
        "id": "-54EuV_61wHt"
      }
    },
    {
      "cell_type": "code",
      "source": [
        "class Programmer:\n",
        "\n",
        " def write(self): \n",
        "  print(\"wrtite code prog\")\n",
        "\n",
        "class Writer:\n",
        "\n",
        " def write(self): \n",
        "  print(\"write word writer\")\n",
        "\n",
        "def action(interface): \n",
        "  interface.write()\n",
        "\n",
        "obj = Programmer() \n",
        "obj_2 = Writer()\n",
        "\n",
        "# Check instance and subclass\n",
        "print(isinstance(obj, Programmer))\n",
        "print(issubclass(Writer, Programmer))"
      ],
      "metadata": {
        "colab": {
          "base_uri": "https://localhost:8080/"
        },
        "id": "7aa7DWWWwzTZ",
        "outputId": "8ffdd4df-fce1-4dea-c547-c0e656037df1"
      },
      "execution_count": null,
      "outputs": [
        {
          "output_type": "stream",
          "name": "stdout",
          "text": [
            "True\n",
            "False\n"
          ]
        }
      ]
    },
    {
      "cell_type": "markdown",
      "source": [
        "### Decorator"
      ],
      "metadata": {
        "id": "uqmiH04iTV8-"
      }
    },
    {
      "cell_type": "code",
      "source": [
        "# Decorator\n",
        "\n",
        "def my_decorator(function):\n",
        "  def wrapper(x,y):\n",
        "    result = function(x,y)\n",
        "    return result * 1000\n",
        "\n",
        "  return wrapper\n",
        "\n",
        "@my_decorator\n",
        "def cost_internet(price, tax):\n",
        "  return price * (1 + tax)  \n",
        "\n",
        "print(cost_internet(100,50))"
      ],
      "metadata": {
        "id": "gFwq0l1j115_",
        "colab": {
          "base_uri": "https://localhost:8080/"
        },
        "outputId": "fb6e6c19-c65b-417b-a03f-4572690ae371"
      },
      "execution_count": null,
      "outputs": [
        {
          "output_type": "stream",
          "name": "stdout",
          "text": [
            "5100000\n"
          ]
        }
      ]
    },
    {
      "cell_type": "markdown",
      "source": [
        "### Base"
      ],
      "metadata": {
        "id": "5pIH8hxjbGbP"
      }
    },
    {
      "cell_type": "code",
      "source": [
        "# Base \n",
        "\n",
        "listOf = ['Hello','Hai','How do you do','What do mean?']\n",
        "setOf = {1,2,3,4,4,5,6,78,90}\n",
        "dictOf = {1: \"Tom\",2: \"Dan\",3:\"Mike\"}\n",
        "tupleOf = (10,20,30,40,50,60,70,80,90,100)\n",
        "\n",
        "str = \"_\"\n",
        "a = 1\n",
        "null = [0 for i in range(0,10)]\n",
        "\n",
        "\n"
      ],
      "metadata": {
        "id": "s70hl2xDTUgn"
      },
      "execution_count": null,
      "outputs": []
    },
    {
      "cell_type": "code",
      "source": [
        "print(\"Hello World\")"
      ],
      "metadata": {
        "id": "RKJgQP45bK4G",
        "colab": {
          "base_uri": "https://localhost:8080/"
        },
        "outputId": "74bdfd92-0b1d-4051-8dfb-39c93536eac6"
      },
      "execution_count": 1,
      "outputs": [
        {
          "output_type": "stream",
          "name": "stdout",
          "text": [
            "Hello World\n"
          ]
        }
      ]
    }
  ]
}