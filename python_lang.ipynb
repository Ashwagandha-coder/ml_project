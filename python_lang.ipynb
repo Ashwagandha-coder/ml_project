{
  "nbformat": 4,
  "nbformat_minor": 0,
  "metadata": {
    "colab": {
      "provenance": [],
      "authorship_tag": "ABX9TyNCY9w7qDpFwD0w3S88lXbJ",
      "include_colab_link": true
    },
    "kernelspec": {
      "name": "python3",
      "display_name": "Python 3"
    },
    "language_info": {
      "name": "python"
    }
  },
  "cells": [
    {
      "cell_type": "markdown",
      "metadata": {
        "id": "view-in-github",
        "colab_type": "text"
      },
      "source": [
        "<a href=\"https://colab.research.google.com/github/Ashwagandha-coder/my_project/blob/main/python_lang.ipynb\" target=\"_parent\"><img src=\"https://colab.research.google.com/assets/colab-badge.svg\" alt=\"Open In Colab\"/></a>"
      ]
    },
    {
      "cell_type": "markdown",
      "source": [
        "## OOP in Python"
      ],
      "metadata": {
        "id": "yJDnlmxOP6L-"
      }
    },
    {
      "cell_type": "code",
      "source": [
        "# class\n",
        "class OOPTest(object):\n",
        "  # field\n",
        "  a = 0\n",
        "  b = 1\n",
        "  c = 2\n",
        "\n",
        "# Function\n",
        "  def test(self, x) -> int:\n",
        "    return x * 2\n",
        "\n",
        "\n",
        "# object\n",
        "obj = OOPTest()\n",
        "newObj = OOPTest()\n",
        "result = newObj.test(2)\n",
        "print(result)"
      ],
      "metadata": {
        "colab": {
          "base_uri": "https://localhost:8080/"
        },
        "id": "23Me24xyQAj-",
        "outputId": "ad14eeac-a501-43b1-fab3-67e6b55cba16"
      },
      "execution_count": 4,
      "outputs": [
        {
          "output_type": "stream",
          "name": "stdout",
          "text": [
            "4\n"
          ]
        }
      ]
    },
    {
      "cell_type": "code",
      "source": [],
      "metadata": {
        "id": "Pnnm_xcHRhdt"
      },
      "execution_count": null,
      "outputs": []
    }
  ]
}