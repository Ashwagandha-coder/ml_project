{
  "nbformat": 4,
  "nbformat_minor": 0,
  "metadata": {
    "colab": {
      "provenance": [],
      "authorship_tag": "ABX9TyPfKxTtm3Ka97qJz309+9nK"
    },
    "kernelspec": {
      "name": "python3",
      "display_name": "Python 3"
    },
    "language_info": {
      "name": "python"
    }
  },
  "cells": [
    {
      "cell_type": "markdown",
      "source": [
        "## OOP in Python"
      ],
      "metadata": {
        "id": "yJDnlmxOP6L-"
      }
    },
    {
      "cell_type": "code",
      "source": [
        "# class\n",
        "class OOPTest(object):\n",
        "  # field\n",
        "  a = 0\n",
        "  b = 1\n",
        "  c = 2\n",
        "\n",
        "# Function\n",
        "  def test(self, x) -> int:\n",
        "    return x * 2\n",
        "\n",
        "\n",
        "# object\n",
        "obj = OOPTest()\n",
        "newObj = OOPTest()\n",
        "result = newObj.test(2)\n",
        "print(result)"
      ],
      "metadata": {
        "colab": {
          "base_uri": "https://localhost:8080/"
        },
        "id": "23Me24xyQAj-",
        "outputId": "ad14eeac-a501-43b1-fab3-67e6b55cba16"
      },
      "execution_count": 4,
      "outputs": [
        {
          "output_type": "stream",
          "name": "stdout",
          "text": [
            "4\n"
          ]
        }
      ]
    },
    {
      "cell_type": "markdown",
      "source": [
        "### Keywords"
      ],
      "metadata": {
        "id": "D1x6P8AXk0t1"
      }
    },
    {
      "cell_type": "code",
      "source": [
        "class newClass(object):\n",
        "  field_1 = 0\n",
        "  field_2 = 1\n",
        "  filed_3 = 2\n",
        "\n",
        "\n",
        "  def __init__(self, field_1, filed_2, filed_3) -> None:\n",
        "    pass\n",
        "\n",
        "  def delimeter(self, x, y) -> int:\n",
        "    return x / y\n",
        "\n",
        "\n",
        "\n",
        "obj = newClass(5,10,20)\n",
        "print(obj.delimeter(10,5))\n",
        "\n",
        "## keyword pass for stub code\n"
      ],
      "metadata": {
        "colab": {
          "base_uri": "https://localhost:8080/"
        },
        "id": "Pnnm_xcHRhdt",
        "outputId": "aac3bf5f-81e5-429d-8ee9-23642c2eb5f6"
      },
      "execution_count": 8,
      "outputs": [
        {
          "output_type": "stream",
          "name": "stdout",
          "text": [
            "2.0\n"
          ]
        }
      ]
    },
    {
      "cell_type": "markdown",
      "source": [
        "### Inheritance"
      ],
      "metadata": {
        "id": "6bYjR88QkorI"
      }
    },
    {
      "cell_type": "code",
      "source": [
        "class newClass(object):\n",
        "  # field\n",
        "  field_1 = 0\n",
        "  field_2 = 1\n",
        "  filed_3 = 2\n",
        "\n",
        "  # constructor\n",
        "  def __init__(self, field_1, filed_2, filed_3) -> None:\n",
        "    pass\n",
        "\n",
        "  def delimeter(self, x, y) -> int:\n",
        "    return x / y\n",
        "\n",
        "\n",
        "\n",
        "obj = newClass(5,10,20)\n",
        "print(obj.delimeter(10,5))\n",
        "\n",
        "## keyword pass for stub code\n",
        "\n",
        "# Inheritance Python\n",
        "class Inhiretance(newClass):\n",
        "\n",
        "  def __init__(self, field_1, filed_2, filed_3) -> None:\n",
        "    super().__init__(field_1, filed_2, filed_3)\n",
        "\n",
        "  def run(self, x):\n",
        "    a = x*x\n",
        "    return a\n",
        "  \n",
        "otherObject = Inhiretance(1,2,3)\n",
        "otherObject.delimeter(20,5)\n",
        "\n"
      ],
      "metadata": {
        "colab": {
          "base_uri": "https://localhost:8080/"
        },
        "id": "JyBUWUdejIKL",
        "outputId": "383773c4-f59a-4508-ac12-8f9c9a4b2c55"
      },
      "execution_count": 12,
      "outputs": [
        {
          "output_type": "stream",
          "name": "stdout",
          "text": [
            "2.0\n"
          ]
        },
        {
          "output_type": "execute_result",
          "data": {
            "text/plain": [
              "4.0"
            ]
          },
          "metadata": {},
          "execution_count": 12
        }
      ]
    },
    {
      "cell_type": "markdown",
      "source": [
        "### Incapsulation"
      ],
      "metadata": {
        "id": "RTGucb0QnBL0"
      }
    },
    {
      "cell_type": "code",
      "source": [
        "class Car:\n",
        "\n",
        "  def __init__(self) -> None:\n",
        "    self.__power = 560\n",
        "  \n",
        "  def doSome(self):\n",
        "    return self.__power\n",
        "\n",
        "car = Car()\n",
        "print(car.doSome())\n",
        "car.__power = 1000\n",
        "print(car.doSome())   "
      ],
      "metadata": {
        "colab": {
          "base_uri": "https://localhost:8080/"
        },
        "id": "5Dh-AIi1k8wu",
        "outputId": "89415bba-1478-4370-ff55-4680bdb89c9e"
      },
      "execution_count": 18,
      "outputs": [
        {
          "output_type": "stream",
          "name": "stdout",
          "text": [
            "560\n",
            "560\n"
          ]
        }
      ]
    },
    {
      "cell_type": "markdown",
      "source": [
        "### Polymorhism"
      ],
      "metadata": {
        "id": "pK-ExnDKoL6h"
      }
    },
    {
      "cell_type": "code",
      "source": [
        "class Programmer:\n",
        "\n",
        "  def write(self):\n",
        "    print(\"wrtite code prog\")\n",
        "\n",
        "class Writer:\n",
        "\n",
        "  def write(self):\n",
        "    print(\"write word writer\")\n",
        "\n",
        "\n",
        "def action(interface):\n",
        "  interface.write()\n",
        "\n",
        "\n",
        "obj = Programmer()\n",
        "obj_2 = Writer()\n",
        "\n",
        "# Polymorpyshm\n",
        "action(obj)\n",
        "action(obj_2)"
      ],
      "metadata": {
        "colab": {
          "base_uri": "https://localhost:8080/"
        },
        "id": "QfxHjoR2nEGB",
        "outputId": "ce6d0539-3e01-4f63-ba8b-e4eda844e405"
      },
      "execution_count": 19,
      "outputs": [
        {
          "output_type": "stream",
          "name": "stdout",
          "text": [
            "wrtite code prog\n",
            "write word writer\n"
          ]
        }
      ]
    }
  ]
}